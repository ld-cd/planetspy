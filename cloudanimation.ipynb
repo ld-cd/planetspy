{
 "cells": [
  {
   "cell_type": "code",
   "execution_count": 1,
   "metadata": {},
   "outputs": [
    {
     "data": {
      "text/html": [
       "<div id=\"glowscript\" class=\"glowscript\"></div>"
      ],
      "text/plain": [
       "<IPython.core.display.HTML object>"
      ]
     },
     "metadata": {},
     "output_type": "display_data"
    },
    {
     "data": {
      "application/javascript": [
       "if (typeof Jupyter !== \"undefined\") { window.__context = { glowscript_container: $(\"#glowscript\").removeAttr(\"id\")};}else{ element.textContent = ' ';}"
      ],
      "text/plain": [
       "<IPython.core.display.Javascript object>"
      ]
     },
     "metadata": {},
     "output_type": "display_data"
    }
   ],
   "source": [
    "import vpython as vp\n",
    "import planetspy as ps\n",
    "import planetspy.utils as putil\n",
    "import numpy as np\n",
    "import povexport as poe\n",
    "import time\n",
    "\n",
    "recinst = putil.record()\n",
    "recinst.load(\"/tmp/med-cloud.plan.gz\")\n",
    "BASENAME = \"/tmp/med-cloud-{:d}.pov\""
   ]
  },
  {
   "cell_type": "code",
   "execution_count": null,
   "metadata": {},
   "outputs": [
    {
     "data": {
      "text/html": [
       "<div id=\"glowscript\" class=\"glowscript\"></div>"
      ],
      "text/plain": [
       "<IPython.core.display.HTML object>"
      ]
     },
     "metadata": {},
     "output_type": "display_data"
    },
    {
     "data": {
      "application/javascript": [
       "if (typeof Jupyter !== \"undefined\") { window.__context = { glowscript_container: $(\"#glowscript\").removeAttr(\"id\")};}else{ element.textContent = ' ';}"
      ],
      "text/plain": [
       "<IPython.core.display.Javascript object>"
      ]
     },
     "metadata": {},
     "output_type": "display_data"
    },
    {
     "data": {
      "application/javascript": [
       "if (typeof Jupyter !== \"undefined\") {require.undef(\"nbextensions/vpython_libraries/glow.min\");}else{element.textContent = ' ';}"
      ],
      "text/plain": [
       "<IPython.core.display.Javascript object>"
      ]
     },
     "metadata": {},
     "output_type": "display_data"
    },
    {
     "data": {
      "application/javascript": [
       "if (typeof Jupyter !== \"undefined\") {require.undef(\"nbextensions/vpython_libraries/glowcomm\");}else{element.textContent = ' ';}"
      ],
      "text/plain": [
       "<IPython.core.display.Javascript object>"
      ]
     },
     "metadata": {},
     "output_type": "display_data"
    },
    {
     "data": {
      "application/javascript": [
       "if (typeof Jupyter !== \"undefined\") {require.undef(\"nbextensions/vpython_libraries/jquery-ui.custom.min\");}else{element.textContent = ' ';}"
      ],
      "text/plain": [
       "<IPython.core.display.Javascript object>"
      ]
     },
     "metadata": {},
     "output_type": "display_data"
    },
    {
     "data": {
      "application/javascript": [
       "if (typeof Jupyter !== \"undefined\") {require([\"nbextensions/vpython_libraries/glow.min\"], function(){console.log(\"GLOW LOADED\");});}else{element.textContent = ' ';}"
      ],
      "text/plain": [
       "<IPython.core.display.Javascript object>"
      ]
     },
     "metadata": {},
     "output_type": "display_data"
    },
    {
     "data": {
      "application/javascript": [
       "if (typeof Jupyter !== \"undefined\") {require([\"nbextensions/vpython_libraries/glowcomm\"], function(){console.log(\"GLOWCOMM LOADED\");});}else{element.textContent = ' ';}"
      ],
      "text/plain": [
       "<IPython.core.display.Javascript object>"
      ]
     },
     "metadata": {},
     "output_type": "display_data"
    },
    {
     "data": {
      "application/javascript": [
       "if (typeof Jupyter !== \"undefined\") {require([\"nbextensions/vpython_libraries/jquery-ui.custom.min\"], function(){console.log(\"JQUERY LOADED\");});}else{element.textContent = ' ';}"
      ],
      "text/plain": [
       "<IPython.core.display.Javascript object>"
      ]
     },
     "metadata": {},
     "output_type": "display_data"
    }
   ],
   "source": [
    "canv = vp.canvas(width=1000, height=1000, background=vp.color.white)\n",
    "\n",
    "def make_vec(i, n, recinst):\n",
    "    return vp.vector(recinst[n][i,0], recinst[n][i,1], recinst[n][i,2])\n",
    "\n",
    "anim = [vp.sphere(pos=make_vec(i, 0, recinst.loc), color=vp.color.red, radius=8e6 #recinst.loc[0][i][3]\n",
    "                 ) for i in range(0, len(recinst.loc[0]))]\n",
    "trails = [vp.curve(i.pos, radius=1e6, color=vp.color.blue) for i in anim]\n",
    "lastlen = len(anim)\n",
    "t = 0\n",
    "old_trails = []\n",
    "canv.pause(\"Adjust viewport and click\")\n",
    "while t<len(recinst.loc) - 1:\n",
    "    t += 1\n",
    "    #canv.range = 1360336254.4334548\n",
    "    #poe.displayscale = 7.361358247278232e-09\n",
    "    #vp.scene.waitfor(\"draw_complete\")\n",
    "    poe.export(canvas = canv, filename = BASENAME.format(t))\n",
    "    for i in range(len(recinst.loc[t]), lastlen):\n",
    "        anim[i].visible = False\n",
    "    anim = anim[0:len(recinst.loc[t])]\n",
    "    if len(recinst.loc[t]) != lastlen:\n",
    "        old_trails.append(trails)\n",
    "    for i in range(len(anim)):\n",
    "        anim[i].pos=make_vec(i, t, recinst.loc)\n",
    "        if len(recinst.loc[t]) == lastlen:\n",
    "            trails[i].append(anim[i].pos)\n",
    "        #anim[i].radius = recinst.loc[t][i][3]\n",
    "    if len(recinst.loc[t]) != lastlen:\n",
    "        trails = [vp.curve(i.pos, radius=1e6, color=vp.color.blue) for i in anim]\n",
    "    lastlen = len(recinst.loc[t])"
   ]
  }
 ],
 "metadata": {
  "kernelspec": {
   "display_name": "Python 3",
   "language": "python",
   "name": "python3"
  },
  "language_info": {
   "codemirror_mode": {
    "name": "ipython",
    "version": 3
   },
   "file_extension": ".py",
   "mimetype": "text/x-python",
   "name": "python",
   "nbconvert_exporter": "python",
   "pygments_lexer": "ipython3",
   "version": "3.7.3"
  }
 },
 "nbformat": 4,
 "nbformat_minor": 2
}
